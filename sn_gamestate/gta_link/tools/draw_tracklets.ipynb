{
 "cells": [
  {
   "cell_type": "code",
   "execution_count": 3,
   "id": "f8ef7abf",
   "metadata": {},
   "outputs": [],
   "source": [
    "import os\n",
    "import cv2\n",
    "import numpy as np\n",
    "from pathlib import Path"
   ]
  },
  {
   "cell_type": "code",
   "execution_count": 4,
   "id": "d28e7f6a",
   "metadata": {},
   "outputs": [],
   "source": [
    "def draw_mot_tracklets(\n",
    "    img_folder,\n",
    "    gt_file,\n",
    "    output_folder=None,\n",
    "    show=False,\n",
    "    box_color_fn=None,\n",
    "    thickness=2,\n",
    "    font_scale=0.3\n",
    "):\n",
    "    # Read GT file\n",
    "    tracklets = {}\n",
    "    with open(gt_file, 'r') as f:\n",
    "        for line in f:\n",
    "            if line.strip() == '':\n",
    "                continue\n",
    "            frame_id, track_id, x, y, w, h, conf, cls, vis = map(float, line.strip().split(','))\n",
    "            frame_id = int(frame_id)\n",
    "            track_id = int(track_id)\n",
    "            if frame_id not in tracklets:\n",
    "                tracklets[frame_id] = []\n",
    "            tracklets[frame_id].append((track_id, int(x), int(y), int(w), int(h)))\n",
    "\n",
    "    img_names = sorted(os.listdir(img_folder))\n",
    "    os.makedirs(output_folder, exist_ok=True) if output_folder else None\n",
    "\n",
    "    for i, img_name in enumerate(img_names, start=1):\n",
    "        img_path = os.path.join(img_folder, img_name)\n",
    "        img = cv2.imread(img_path)\n",
    "        if img is None:\n",
    "            continue\n",
    "\n",
    "        if i in tracklets:\n",
    "            for tid, x, y, w, h in tracklets[i]:\n",
    "                color = box_color_fn(tid) if box_color_fn else (0, 255, 0)\n",
    "                cv2.rectangle(img, (x, y), (x + w, y + h), color, thickness)\n",
    "                cv2.putText(img, f'{tid}', (x, y - 5), cv2.FONT_HERSHEY_SIMPLEX,\n",
    "                            font_scale, color, thickness=1)\n",
    "\n",
    "        if output_folder:\n",
    "            cv2.imwrite(os.path.join(output_folder, img_name), img)\n",
    "\n",
    "        if show:\n",
    "            cv2.imshow(\"Tracking\", img)\n",
    "            if cv2.waitKey(30) == 27:\n",
    "                break\n",
    "\n",
    "    if show:\n",
    "        cv2.destroyAllWindows()"
   ]
  },
  {
   "cell_type": "code",
   "execution_count": 12,
   "id": "449eb526",
   "metadata": {},
   "outputs": [],
   "source": [
    "def draw_mot_tracklets_to_video(\n",
    "    img_folder,\n",
    "    gt_file,\n",
    "    output_video_path,\n",
    "    box_color_fn=None,\n",
    "    thickness=1,\n",
    "    font_scale=0.5,\n",
    "    frame_rate=15\n",
    "):\n",
    "    # Load tracking annotations\n",
    "    tracklets = {}\n",
    "    with open(gt_file, 'r') as f:\n",
    "        for line in f:\n",
    "            if line.strip() == '':\n",
    "                continue\n",
    "            frame_id, track_id, x, y, w, h, conf, _, _,_ = map(float, line.strip().split(','))\n",
    "            frame_id = int(frame_id)\n",
    "            track_id = int(track_id)\n",
    "            if frame_id not in tracklets:\n",
    "                tracklets[frame_id] = []\n",
    "            tracklets[frame_id].append((track_id, int(x), int(y), int(w), int(h)))\n",
    "\n",
    "    # Get sorted list of frame image paths\n",
    "    img_files = sorted([f for f in os.listdir(img_folder) if f.endswith(('.jpg', '.png'))])\n",
    "    if not img_files:\n",
    "        raise ValueError(\"No images found in the folder.\")\n",
    "\n",
    "    # Read first frame to get size\n",
    "    first_frame = cv2.imread(os.path.join(img_folder, img_files[0]))\n",
    "    if first_frame is None:\n",
    "        raise ValueError(\"Could not read first image.\")\n",
    "    height, width = first_frame.shape[:2]\n",
    "\n",
    "    # Create video writer\n",
    "    fourcc = cv2.VideoWriter_fourcc(*'mp4v')  # or use 'XVID', 'avc1' etc.\n",
    "    video_writer = cv2.VideoWriter(output_video_path, fourcc, frame_rate, (width, height))\n",
    "\n",
    "    # Process each frame\n",
    "    for i, img_name in enumerate(img_files, start=0):\n",
    "        img_path = os.path.join(img_folder, img_name)\n",
    "        img = cv2.imread(img_path)\n",
    "        if img is None:\n",
    "            print(f\"Warning: Could not read {img_path}\")\n",
    "            continue\n",
    "\n",
    "        if i in tracklets:\n",
    "            for tid, x, y, w, h in tracklets[i]:\n",
    "                color = box_color_fn(tid) if box_color_fn else (0, 255, 0)\n",
    "                cv2.rectangle(img, (x, y), (x + w, y + h), color, thickness)\n",
    "                cv2.putText(img, f'ID {tid}', (x, y - 5), cv2.FONT_HERSHEY_SIMPLEX,\n",
    "                            font_scale, color, thickness=1)\n",
    "\n",
    "        video_writer.write(img)\n",
    "\n",
    "    video_writer.release()\n",
    "    print(f\"Video saved to: {output_video_path}\")"
   ]
  },
  {
   "cell_type": "code",
   "execution_count": 16,
   "id": "8b8c0e71",
   "metadata": {},
   "outputs": [],
   "source": [
    "# DATA_BASE_PATH = Path(\"D:\\\\Dataset\\\\Football\\\\test1\\\\StrongSORT_CustMOT_Split_Connect\")\n",
    "# DATA_BASE_PATH = Path(\"F:\\\\Dataset\\\\test1\\\\StrongSORT_Tracklets\")\n",
    "DATA_BASE_PATH = Path(\"F:\\\\Dataset\\\\test_merge_videos_tracklets\")\n",
    "# TRACKLETS_FILE = DATA_BASE_PATH / \"seq_merged.txt\"\n",
    "# TRACKLETS_FILE = \"F:\\\\Dataset\\\\test_merge_videos_tracklets\\\\result_videos\\\\seq_mapped.txt\"\n",
    "TRACKLETS_FILE = \"F:\\\\Dataset\\\\test_merge_videos_tracklets\\\\part1\\\\outputs\\\\seq_0.txt\"\n",
    "# IMG_DIR = DATA_BASE_PATH / \"merged_images\"\n",
    "# IMG_DIR = \"F:\\\\Dataset\\\\test_merge_videos_tracklets\\\\part2\\\\outputs\\\\seq_0\\\\img1\"\n",
    "IMG_DIR = \"F:\\\\Dataset\\\\test_merge_videos_tracklets\\\\part1\\\\outputs\\\\seq_0\\\\img1\"\n",
    "OUTPUT_VIDEO_PATH =  \"F:\\\\Dataset\\\\test_merge_videos_tracklets\\\\result_videos\\\\video_0.mp4\""
   ]
  },
  {
   "cell_type": "code",
   "execution_count": 17,
   "id": "6fe4404e",
   "metadata": {},
   "outputs": [
    {
     "name": "stdout",
     "output_type": "stream",
     "text": [
      "Video saved to: F:\\Dataset\\test_merge_videos_tracklets\\result_videos\\video_0.mp4\n"
     ]
    }
   ],
   "source": [
    "# Example usage\n",
    "draw_mot_tracklets_to_video(\n",
    "    img_folder=IMG_DIR,\n",
    "    gt_file=TRACKLETS_FILE,\n",
    "    output_video_path=OUTPUT_VIDEO_PATH,\n",
    "    box_color_fn=lambda tid: tuple(int(c) for c in np.random.RandomState(tid).randint(0, 255, size=3)),\n",
    ")"
   ]
  },
  {
   "cell_type": "code",
   "execution_count": null,
   "id": "1dac990b",
   "metadata": {},
   "outputs": [],
   "source": []
  },
  {
   "cell_type": "code",
   "execution_count": null,
   "id": "402efdd2",
   "metadata": {},
   "outputs": [],
   "source": []
  },
  {
   "cell_type": "code",
   "execution_count": null,
   "id": "13356727",
   "metadata": {},
   "outputs": [],
   "source": []
  },
  {
   "cell_type": "code",
   "execution_count": null,
   "id": "2e836deb",
   "metadata": {},
   "outputs": [],
   "source": []
  },
  {
   "cell_type": "code",
   "execution_count": null,
   "id": "2258b083",
   "metadata": {},
   "outputs": [],
   "source": []
  }
 ],
 "metadata": {
  "kernelspec": {
   "display_name": "base_env",
   "language": "python",
   "name": "python3"
  },
  "language_info": {
   "codemirror_mode": {
    "name": "ipython",
    "version": 3
   },
   "file_extension": ".py",
   "mimetype": "text/x-python",
   "name": "python",
   "nbconvert_exporter": "python",
   "pygments_lexer": "ipython3",
   "version": "3.12.1"
  }
 },
 "nbformat": 4,
 "nbformat_minor": 5
}
